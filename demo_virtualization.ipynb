{
 "cells": [
  {
   "cell_type": "code",
   "execution_count": 1,
   "metadata": {},
   "outputs": [],
   "source": [
    "# project specific\n",
    "import numpy as np\n",
    "import matplotlib.pyplot as plt\n",
    "import os\n",
    "#import functions as fitpatterns\n",
    "import itertools\n"
   ]
  },
  {
   "cell_type": "markdown",
   "metadata": {},
   "source": [
    "load data"
   ]
  },
  {
   "cell_type": "code",
   "execution_count": 2,
   "metadata": {},
   "outputs": [],
   "source": [
    "num = 1 # number of lists passed in\n",
    "ll= 10\n",
    "data = [[int(j+1)+k*ll for j in range(ll)] for k in range(num)]\n",
    "np.savetxt('datafile/K02_temp_data_structure.txt',data,delimiter=',')\n",
    "lists = [int(i+1) for i in range(num)]\n",
    "np.savetxt('datafile/K02_temp_list_ids.txt',lists)\n",
    "\n",
    "\n",
    "LSA_path = '/mnt/bucket/people/qiongz/optimalmemory/pyCMR2/K02_files/K02_LSA.txt'\n",
    "data_path = '/mnt/bucket/people/qiongz/CMRversions/datafile/K02_temp_data_structure.txt'    \n",
    "LSA_mat = np.loadtxt(LSA_path, delimiter=',', dtype=np.float32)        \n",
    "data_pres = np.loadtxt(data_path, delimiter=',')\n",
    "data_pres = np.reshape(data_pres, (1, ll))\n",
    "\n",
    "param_dict = {\n",
    "\n",
    "    'beta_enc':  0.7887626184661226,           # rate of context drift during encoding\n",
    "    'beta_rec':  0.49104864172027485,           # rate of context drift during recall\n",
    "    'beta_rec_post': 1,      # rate of context drift between lists\n",
    "                                    # (i.e., post-recall)\n",
    "\n",
    "    'gamma_fc': 0.4024001271645564,  # learning rate, feature-to-context\n",
    "    'gamma_cf': 1,  # learning rate, context-to-feature\n",
    "    'scale_fc': 1 - 0.4024001271645564,\n",
    "    'scale_cf': 0,\n",
    "\n",
    "\n",
    "    's_cf': 0.0,       # scales influence of semantic similarity\n",
    "                            # on M_CF matrix\n",
    "\n",
    "    's_fc': 0.0,            # scales influence of semantic similarity\n",
    "                            # on M_FC matrix.\n",
    "                            # s_fc is first implemented in\n",
    "                            # Healey et al. 2016;\n",
    "                            # set to 0.0 for prior papers.\n",
    "\n",
    "    'phi_s': 4.661547054594787,      # primacy parameter\n",
    "    'phi_d': 2.738934338758688,      # primacy parameter\n",
    "\n",
    "\n",
    "    'epsilon_s': 0.0,      # baseline activiation for stopping probability \n",
    "    'epsilon_d': 2.723826426356652,        # scale parameter for stopping probability \n",
    "\n",
    "    'k':  5.380182482069175,        # scale parameter in luce choice rule during recall\n",
    "\n",
    "    # parameters specific to optimal CMR:\n",
    "    'primacy': 0.0,\n",
    "    'enc_rate': 1.0,\n",
    "\n",
    "}"
   ]
  },
  {
   "cell_type": "code",
   "execution_count": 20,
   "metadata": {},
   "outputs": [
    {
     "name": "stdout",
     "output_type": "stream",
     "text": [
      "\n",
      "\n",
      "\n",
      " Encoding Phase start here:\n",
      "\n",
      "\n",
      "\n",
      "\n",
      "\n",
      " Temporal and Semantic Associative Matrix (After Encoding):\n"
     ]
    },
    {
     "data": {
      "image/png": "[encoded data removed]",
      "text/plain": [
       "<Figure size 576x576 with 4 Axes>"
      ]
     },
     "metadata": {
      "needs_background": "light"
     },
     "output_type": "display_data"
    },
    {
     "name": "stdout",
     "output_type": "stream",
     "text": [
      "\n",
      "\n",
      "\n",
      " Retrieval Phase start here:\n",
      "\n",
      "\n",
      "(1)\n",
      "The just-recalled item is 8\n",
      "Remaining items are [0, 1, 2, 3, 4, 5, 6, 7, 9]\n",
      "Here is current context vector:\n"
     ]
    },
    {
     "data": {
      "image/png": "[encoded data removed]",
      "text/plain": [
       "<Figure size 576x72 with 1 Axes>"
      ]
     },
     "metadata": {
      "needs_background": "light"
     },
     "output_type": "display_data"
    },
    {
     "name": "stdout",
     "output_type": "stream",
     "text": [
      "\n",
      "\n",
      "(2)\n",
      "The just-recalled item is 7\n",
      "Remaining items are [0, 1, 2, 3, 4, 5, 6, 9]\n",
      "Here is current context vector:\n"
     ]
    },
    {
     "data": {
      "image/png": "[encoded data removed]",
      "text/plain": [
       "<Figure size 576x72 with 1 Axes>"
      ]
     },
     "metadata": {
      "needs_background": "light"
     },
     "output_type": "display_data"
    },
    {
     "name": "stdout",
     "output_type": "stream",
     "text": [
      "\n",
      "\n",
      "(3)\n",
      "The just-recalled item is 9\n",
      "Remaining items are [0, 1, 2, 3, 4, 5, 6]\n",
      "Here is current context vector:\n"
     ]
    },
    {
     "data": {
      "image/png": "[encoded data removed]",
      "text/plain": [
       "<Figure size 576x72 with 1 Axes>"
      ]
     },
     "metadata": {
      "needs_background": "light"
     },
     "output_type": "display_data"
    },
    {
     "name": "stdout",
     "output_type": "stream",
     "text": [
      "\n",
      "\n",
      "(4)\n",
      "The just-recalled item is None\n",
      "Remaining items are [0, 1, 2, 3, 4, 5, 6]\n",
      "Here is current context vector:\n"
     ]
    },
    {
     "data": {
      "image/png": "[encoded data removed]",
      "text/plain": [
       "<Figure size 576x72 with 1 Axes>"
      ]
     },
     "metadata": {
      "needs_background": "light"
     },
     "output_type": "display_data"
    }
   ],
   "source": [
    "\n",
    "# init. lists to store CMR2 output\n",
    "resp_values = []\n",
    "support_values = []\n",
    "\n",
    "# create CMR2 object\n",
    "this_CMR = CMR2_simple.CMR2(\n",
    "    recall_mode=0, params=param_dict,\n",
    "    LSA_mat=LSA_mat, pres_sheet = data_pres, rec_sheet = data_pres)\n",
    "\n",
    "# layer LSA cos theta values onto the weight matrices\n",
    "this_CMR.create_semantic_structure()\n",
    "\n",
    "# Run CMR2 for each list\n",
    "for i in range(1):\n",
    "    # present new list\n",
    "    print(\"\\n\\n\\n Encoding Phase start here:\\n\\n\")\n",
    "    this_CMR.present_list()\n",
    "\n",
    "    # print Ms\n",
    "    print(\"\\n\\n\\n Temporal and Semantic Associative Matrix (After Encoding):\")\n",
    "    plt.rcParams['figure.figsize'] = (8,8)\n",
    "    plt.subplot(2,2,1)\n",
    "    plt.imshow(this_CMR.M_FC_tem)\n",
    "    plt.title(\"M_FC_tem\")    \n",
    "    plt.subplot(2,2,2)\n",
    "    plt.imshow(this_CMR.M_CF_tem)            \n",
    "    plt.title(\"M_CF_tem\")    \n",
    "    plt.subplot(2,2,3)\n",
    "    plt.imshow(this_CMR.M_FC_sem) \n",
    "    plt.title(\"M_FC_sem\")\n",
    "    plt.subplot(2,2,4)\n",
    "    plt.imshow(this_CMR.M_CF_sem)\n",
    "    plt.title(\"M_CF_sem\")\n",
    "    plt.show()\n",
    "    \n",
    "    # recall session\n",
    "    print(\"\\n\\n\\n Retrieval Phase start here:\")\n",
    "    this_CMR.recall_start()\n",
    "    rec_item = -1\n",
    "    itr = 0\n",
    "    while rec_item is not None:\n",
    "        # start recall\n",
    "        rec_item = this_CMR.recall_step(0.5,0.4)\n",
    "        itr = itr + 1      \n",
    "        \n",
    "        # print current state\n",
    "        print(\"\\n\\n({})\".format(itr))\n",
    "        print(\"The just-recalled item is {}\".format(rec_item))\n",
    "        remain = [i for i in range(ll) if this_CMR.torecall[0][i]>0]\n",
    "        print(\"Remaining items are {}\".format(remain))  \n",
    "        plt.rcParams['figure.figsize'] = (8,1)\n",
    "        print(\"Here is current context vector:\") \n",
    "        plt.imshow(this_CMR.c_net.T) \n",
    "        plt.show()      \n",
    "\n",
    "    # append recall responses & times\n",
    "    #resp_values.append(rec_items_i)\n",
    "    #support_values.append(support_i)\n",
    "#print(resp_values)"
   ]
  },
  {
   "cell_type": "code",
   "execution_count": null,
   "metadata": {},
   "outputs": [],
   "source": []
  },
  {
   "cell_type": "code",
   "execution_count": null,
   "metadata": {},
   "outputs": [],
   "source": []
  },
  {
   "cell_type": "code",
   "execution_count": null,
   "metadata": {},
   "outputs": [],
   "source": []
  },
  {
   "cell_type": "code",
   "execution_count": null,
   "metadata": {},
   "outputs": [],
   "source": []
  },
  {
   "cell_type": "code",
   "execution_count": null,
   "metadata": {},
   "outputs": [],
   "source": []
  },
  {
   "cell_type": "code",
   "execution_count": null,
   "metadata": {},
   "outputs": [],
   "source": []
  },
  {
   "cell_type": "code",
   "execution_count": null,
   "metadata": {},
   "outputs": [],
   "source": []
  },
  {
   "cell_type": "code",
   "execution_count": null,
   "metadata": {},
   "outputs": [],
   "source": []
  },
  {
   "cell_type": "code",
   "execution_count": null,
   "metadata": {},
   "outputs": [],
   "source": []
  }
 ],
 "metadata": {
  "kernelspec": {
   "display_name": "Python 3",
   "language": "python",
   "name": "python3"
  },
  "language_info": {
   "codemirror_mode": {
    "name": "ipython",
    "version": 3
   },
   "file_extension": ".py",
   "mimetype": "text/x-python",
   "name": "python",
   "nbconvert_exporter": "python",
   "pygments_lexer": "ipython3",
   "version": "3.5.5"
  }
 },
 "nbformat": 4,
 "nbformat_minor": 4
}
