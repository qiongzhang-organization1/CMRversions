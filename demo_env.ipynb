{
 "cells": [
  {
   "cell_type": "code",
   "execution_count": 1,
   "metadata": {},
   "outputs": [],
   "source": [
    "import numpy as np\n",
    "import matplotlib.pyplot as plt\n",
    "import os\n",
    "import itertools\n",
    "import MemorySearch as MS"
   ]
  },
  {
   "cell_type": "markdown",
   "metadata": {},
   "source": [
    "### Interact with CMR environment"
   ]
  },
  {
   "cell_type": "code",
   "execution_count": 4,
   "metadata": {},
   "outputs": [
    {
     "name": "stdout",
     "output_type": "stream",
     "text": [
      "Episode #1\n",
      "0\n",
      "The just-recalled item is 4\n",
      "Remaining items are [0, 1, 2, 3, 5, 6, 7, 8, 9]\n",
      "1\n",
      "The just-recalled item is 8\n",
      "Remaining items are [0, 1, 2, 3, 5, 6, 7, 9]\n",
      "2\n",
      "The just-recalled item is 9\n",
      "Remaining items are [0, 1, 2, 3, 5, 6, 7]\n",
      "3\n",
      "The just-recalled item is 7\n",
      "Remaining items are [0, 1, 2, 3, 5, 6]\n",
      "4\n",
      "The just-recalled item is 6\n",
      "Remaining items are [0, 1, 2, 3, 5]\n",
      "5\n",
      "The just-recalled item is None\n",
      "Remaining items are [0, 1, 2, 3, 5]\n",
      "Episode finished after 6 timesteps and 5 points for reward\n",
      "Episode #2\n",
      "0\n",
      "The just-recalled item is 7\n",
      "Remaining items are [0, 1, 2, 3, 4, 5, 6, 8, 9]\n",
      "1\n",
      "The just-recalled item is 9\n",
      "Remaining items are [0, 1, 2, 3, 4, 5, 6, 8]\n",
      "2\n",
      "The just-recalled item is 6\n",
      "Remaining items are [0, 1, 2, 3, 4, 5, 8]\n",
      "3\n",
      "The just-recalled item is None\n",
      "Remaining items are [0, 1, 2, 3, 4, 5, 8]\n",
      "Episode finished after 4 timesteps and 3 points for reward\n"
     ]
    }
   ],
   "source": [
    "ll = 10 # list length\n",
    "env = MS.MemorySearch(ll)\n",
    "for i_episode in range(2):\n",
    "    print(\"Episode #{}\".format(i_episode+1))\n",
    "    observation = env.reset()\n",
    "    rewards = 0\n",
    "    for t in range(100):\n",
    "        print(t)\n",
    "        action = [0.5,0.4] # beta_rec,gamma_fc both ranging from 0 to 1\n",
    "        observation, reward, done = env.step(action)\n",
    "        rewards = rewards + reward\n",
    "        if done:\n",
    "            print(\"Episode finished after {} timesteps and {} points for reward\".format(t+1,rewards))\n",
    "            break\n"
   ]
  },
  {
   "cell_type": "code",
   "execution_count": 6,
   "metadata": {},
   "outputs": [
    {
     "data": {
      "text/plain": [
       "(455,)"
      ]
     },
     "execution_count": 6,
     "metadata": {},
     "output_type": "execute_result"
    }
   ],
   "source": [
    "observation.shape"
   ]
  },
  {
   "cell_type": "code",
   "execution_count": null,
   "metadata": {},
   "outputs": [],
   "source": []
  }
 ],
 "metadata": {
  "kernelspec": {
   "display_name": "Python 3",
   "language": "python",
   "name": "python3"
  },
  "language_info": {
   "codemirror_mode": {
    "name": "ipython",
    "version": 3
   },
   "file_extension": ".py",
   "mimetype": "text/x-python",
   "name": "python",
   "nbconvert_exporter": "python",
   "pygments_lexer": "ipython3",
   "version": "3.5.5"
  }
 },
 "nbformat": 4,
 "nbformat_minor": 4
}
